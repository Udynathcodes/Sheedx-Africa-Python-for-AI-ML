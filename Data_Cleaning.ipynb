{
  "nbformat": 4,
  "nbformat_minor": 0,
  "metadata": {
    "colab": {
      "provenance": [],
      "authorship_tag": "ABX9TyPlfmhezh1uwROquG0fsNfQ",
      "include_colab_link": true
    },
    "kernelspec": {
      "name": "python3",
      "display_name": "Python 3"
    },
    "language_info": {
      "name": "python"
    }
  },
  "cells": [
    {
      "cell_type": "markdown",
      "metadata": {
        "id": "view-in-github",
        "colab_type": "text"
      },
      "source": [
        "<a href=\"https://colab.research.google.com/github/Udynathcodes/Sheedx-Africa-Python-for-AI-ML/blob/main/Data_Cleaning.ipynb\" target=\"_parent\"><img src=\"https://colab.research.google.com/assets/colab-badge.svg\" alt=\"Open In Colab\"/></a>"
      ]
    },
    {
      "cell_type": "markdown",
      "source": [
        "Dope irrelevant colomns"
      ],
      "metadata": {
        "id": "-cSMx7wfry13"
      }
    },
    {
      "cell_type": "code",
      "source": [
        "import pandas as pd\n",
        "#define a dictionary of sample data\n",
        "data = {\n",
        "        \"A\": [1, 3, 4, None, 5],\n",
        "        \"B\": [None, 2, 7, 4, 6],\n",
        "        \"C\": [9, 8, None, None, 6]}\n",
        "df = pd.DataFrame(data)\n",
        "print(\"Original Data\")\n",
        "print(df)\n",
        "print()\n",
        "#using dropna function to remove rows with an missing values\n",
        "df_remov = df.dropna()\n",
        "print(\"Data after removing missing values\")\n",
        "print(df_remov)"
      ],
      "metadata": {
        "colab": {
          "base_uri": "https://localhost:8080/"
        },
        "id": "iTqxFsQtr7L1",
        "outputId": "e70cb785-9491-4ca6-f22a-22a3762b47be"
      },
      "execution_count": 6,
      "outputs": [
        {
          "output_type": "stream",
          "name": "stdout",
          "text": [
            "Original Data\n",
            "     A    B    C\n",
            "0  1.0  NaN  9.0\n",
            "1  3.0  2.0  8.0\n",
            "2  4.0  7.0  NaN\n",
            "3  NaN  4.0  NaN\n",
            "4  5.0  6.0  6.0\n",
            "\n",
            "Data after removing missing values\n",
            "     A    B    C\n",
            "1  3.0  2.0  8.0\n",
            "4  5.0  6.0  6.0\n"
          ]
        }
      ]
    },
    {
      "cell_type": "markdown",
      "source": [
        "Filling missing **values**"
      ],
      "metadata": {
        "id": "CRL9IQQFuBzC"
      }
    },
    {
      "cell_type": "code",
      "source": [
        "data = {\n",
        "        \"A\": [1, 3, 4, None, 5],\n",
        "        \"B\": [None, 2, 7, 4, 6],\n",
        "        \"C\": [9, 8, None, None, 6]}\n",
        "df = pd.DataFrame(data)\n",
        "print(\"Original Data\")\n",
        "print(df)\n",
        "print()\n",
        "#filling NaN with 0\n",
        "df.fillna(0, inplace=True)\n",
        "print(\"Data after filling missing values\")\n",
        "print(df)\n"
      ],
      "metadata": {
        "colab": {
          "base_uri": "https://localhost:8080/"
        },
        "id": "6tH9BOhDuAse",
        "outputId": "03a6b228-ac2d-4123-93e9-35efce6a22f6"
      },
      "execution_count": 8,
      "outputs": [
        {
          "output_type": "stream",
          "name": "stdout",
          "text": [
            "Original Data\n",
            "     A    B    C\n",
            "0  1.0  NaN  9.0\n",
            "1  3.0  2.0  8.0\n",
            "2  4.0  7.0  NaN\n",
            "3  NaN  4.0  NaN\n",
            "4  5.0  6.0  6.0\n",
            "\n",
            "Data after filling missing values\n",
            "     A    B    C\n",
            "0  1.0  0.0  9.0\n",
            "1  3.0  2.0  8.0\n",
            "2  4.0  7.0  0.0\n",
            "3  0.0  4.0  0.0\n",
            "4  5.0  6.0  6.0\n"
          ]
        }
      ]
    },
    {
      "cell_type": "markdown",
      "source": [
        "Returning the mean using aggregate()"
      ],
      "metadata": {
        "id": "AiFb3ZnOvu_A"
      }
    },
    {
      "cell_type": "code",
      "source": [
        "data = {\n",
        "        \"A\": [1, 3, 4, None, 5],\n",
        "        \"B\": [None, 2, 7, 4, 6],\n",
        "        \"C\": [9, 8, None, None, 6]}\n",
        "df = pd.DataFrame(data)\n",
        "#Filling NaN with the mean of each column\n",
        "df.fillna(df.mean(), inplace=True)\n",
        "print(\"Data after filling missing values\")\n",
        "print(df)"
      ],
      "metadata": {
        "colab": {
          "base_uri": "https://localhost:8080/"
        },
        "id": "e6MmE7Tfv5T9",
        "outputId": "c13dcac8-3062-40e2-a648-5d6644251292"
      },
      "execution_count": 9,
      "outputs": [
        {
          "output_type": "stream",
          "name": "stdout",
          "text": [
            "Data after filling missing values\n",
            "      A     B         C\n",
            "0  1.00  4.75  9.000000\n",
            "1  3.00  2.00  8.000000\n",
            "2  4.00  7.00  7.666667\n",
            "3  3.25  4.00  7.666667\n",
            "4  5.00  6.00  6.000000\n"
          ]
        }
      ]
    },
    {
      "cell_type": "code",
      "execution_count": 13,
      "metadata": {
        "colab": {
          "base_uri": "https://localhost:8080/"
        },
        "id": "QB5A_ui3kA5c",
        "outputId": "7c08bc88-885d-4e7b-f7b9-c690b3858c8b"
      },
      "outputs": [
        {
          "output_type": "stream",
          "name": "stdout",
          "text": [
            "Orinal DataFrame Values\n",
            "\n",
            "Duplicate Values\n",
            "0    False\n",
            "1    False\n",
            "2     True\n",
            "3    False\n",
            "4    False\n",
            "5    False\n",
            "dtype: bool\n",
            "\n",
            "Data after removing duplicates\n",
            "   A  B\n",
            "0  1  5\n",
            "1  2  6\n",
            "3  3  8\n",
            "4  3  7\n",
            "5  4  4\n"
          ]
        }
      ],
      "source": [
        "data = {\n",
        "        \"A\": [1, 2, 2, 3, 3, 4],\n",
        "        \"B\": [5, 6, 6, 8, 7, 4]\n",
        "}\n",
        "df= pd.DataFrame(data)\n",
        "print(\"Orinal DataFrame Values\")\n",
        "print()\n",
        "\n",
        "#Check for duplicates\n",
        "print(\"Duplicate Values\")\n",
        "print(df.duplicated())\n",
        "print()\n",
        "\n",
        "#Remove duplicates\n",
        "df.drop_duplicates(inplace=True)\n",
        "print(\"Data after removing duplicates\")\n",
        "print(df)"
      ]
    },
    {
      "cell_type": "markdown",
      "source": [
        "Renaming **column**"
      ],
      "metadata": {
        "id": "2JIq8TfEyzb8"
      }
    },
    {
      "cell_type": "code",
      "source": [
        "data = {\n",
        "        \"A\": [11, 33, 40,],\n",
        "        \"B\": [\"Glory\", \"Sandrq\", \"Esther\"],\n",
        "        \"C\": [10000, 40000, 60000]}\n",
        "df = pd.DataFrame(data)\n",
        "print(\"Original Data\")\n",
        "print(df)\n",
        "print()\n",
        "\n",
        "df.rename(columns={\"A\": \"Age\", \"B\": \"Name\", \"C\": \"Salary\"}, inplace=True)\n",
        "print(\"Data after renaming columns\")\n",
        "print(df)\n",
        "\n",
        "#"
      ],
      "metadata": {
        "colab": {
          "base_uri": "https://localhost:8080/"
        },
        "id": "CJwxo2fqy2UY",
        "outputId": "1d6e9d80-1ac4-45b3-8a25-3dd27fd41476"
      },
      "execution_count": 16,
      "outputs": [
        {
          "output_type": "stream",
          "name": "stdout",
          "text": [
            "Original Data\n",
            "    A       B      C\n",
            "0  11   Glory  10000\n",
            "1  33  Sandrq  40000\n",
            "2  40  Esther  60000\n",
            "\n",
            "Data after renaming columns\n",
            "   Age    Name  Salary\n",
            "0   11   Glory   10000\n",
            "1   33  Sandrq   40000\n",
            "2   40  Esther   60000\n"
          ]
        }
      ]
    }
  ]
}