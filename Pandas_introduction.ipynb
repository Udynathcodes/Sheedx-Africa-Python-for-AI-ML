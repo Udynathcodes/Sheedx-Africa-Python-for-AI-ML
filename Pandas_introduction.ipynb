{
  "nbformat": 4,
  "nbformat_minor": 0,
  "metadata": {
    "colab": {
      "provenance": [],
      "authorship_tag": "ABX9TyN47IVfaXG9QSF5Hzv+V1cZ",
      "include_colab_link": true
    },
    "kernelspec": {
      "name": "python3",
      "display_name": "Python 3"
    },
    "language_info": {
      "name": "python"
    }
  },
  "cells": [
    {
      "cell_type": "markdown",
      "metadata": {
        "id": "view-in-github",
        "colab_type": "text"
      },
      "source": [
        "<a href=\"https://colab.research.google.com/github/Udynathcodes/Sheedx-Africa-Python-for-AI-ML/blob/main/Pandas_introduction.ipynb\" target=\"_parent\"><img src=\"https://colab.research.google.com/assets/colab-badge.svg\" alt=\"Open In Colab\"/></a>"
      ]
    },
    {
      "cell_type": "code",
      "source": [],
      "metadata": {
        "id": "v3z38_WUg1wC"
      },
      "execution_count": null,
      "outputs": []
    },
    {
      "cell_type": "code",
      "source": [
        "import pandas as pd #ps as alias\n",
        "\n",
        "#create a list\n",
        "data = {\"Glory\": 20.5, \"Sandar\": 23.5, \"Promise\": 30.2}\n",
        "\n",
        "#Create a series from the the list(data)\n",
        "my_ser = pd.Series(data)\n",
        "\n",
        "#Display the series\n",
        "print(my_ser)\n"
      ],
      "metadata": {
        "colab": {
          "base_uri": "https://localhost:8080/"
        },
        "id": "aOmuS4PKfNHR",
        "outputId": "210b1b32-eeb2-4400-8b6a-904005381132"
      },
      "execution_count": 20,
      "outputs": [
        {
          "output_type": "stream",
          "name": "stdout",
          "text": [
            "Glory      20.5\n",
            "Sandar     23.5\n",
            "Promise    30.2\n",
            "dtype: float64\n"
          ]
        }
      ]
    },
    {
      "cell_type": "code",
      "source": [
        "grades = {\"Glory\": 85, \"Sandar\": 67, \"Promise\": 90}\n",
        "#select specific dictionary items using index argument\n",
        "inde_ar = pd.Series(grades, index=[\"Glory\", \"Promise\"])\n",
        "#Display the series\n",
        "print(inde_ar)"
      ],
      "metadata": {
        "colab": {
          "base_uri": "https://localhost:8080/"
        },
        "id": "43cefE13nRM2",
        "outputId": "b92ec725-24f6-407d-f12c-1bcdf7cc2822"
      },
      "execution_count": 22,
      "outputs": [
        {
          "output_type": "stream",
          "name": "stdout",
          "text": [
            "Glory      85\n",
            "Promise    90\n",
            "dtype: int64\n"
          ]
        }
      ]
    },
    {
      "cell_type": "markdown",
      "source": [
        "**Pandas DataFrames**\n"
      ],
      "metadata": {
        "id": "Md1X30kPqZzE"
      }
    },
    {
      "cell_type": "code",
      "source": [
        "dic = {\"Names\": [\"Glory\", \"Sandar\", \"Pro\"],\n",
        "       \"Aga\": [21, 30, 90],\n",
        "       \"City\": [\"Uyo\",  \"Eket\", \"Oron\"]}\n",
        "#Create a dataframe from dictionary(dic)\n",
        "print(dic)\n",
        "df = pd.DataFrame(dic)\n",
        "#Display the dataframe\n",
        "print(df)"
      ],
      "metadata": {
        "colab": {
          "base_uri": "https://localhost:8080/"
        },
        "id": "I6iZXNrsqfM4",
        "outputId": "d61de0af-4e6c-4b0c-bba9-0e8ae6027d63"
      },
      "execution_count": 24,
      "outputs": [
        {
          "output_type": "stream",
          "name": "stdout",
          "text": [
            "{'Names': ['Glory', 'Sandar', 'Pro'], 'Aga': [21, 30, 90], 'City': ['Uyo', 'Eket', 'Oron']}\n",
            "    Names  Aga  City\n",
            "0   Glory   21   Uyo\n",
            "1  Sandar   30  Eket\n",
            "2     Pro   90  Oron\n"
          ]
        }
      ]
    },
    {
      "cell_type": "markdown",
      "source": [
        "**Creating a pandas Dataframe from a python list**"
      ],
      "metadata": {
        "id": "UbJjAu4Tr7K0"
      }
    },
    {
      "cell_type": "code",
      "source": [
        "py_list = [[\"Glory\", 21, \"Uyo\"],\n",
        "           [\"Sandar\", 30, \"Eket\"],\n",
        "           [\"Promise\", 90, \"Oron\"]]\n",
        "print(py_list)\n",
        "# Create a dataFrame from our list(py_list)\n",
        "df = pd.DataFrame(py_list, columns=[\"Names\", \"Age\", \"City\"])\n",
        "#Display the dataframe\n",
        "print(df)"
      ],
      "metadata": {
        "colab": {
          "base_uri": "https://localhost:8080/"
        },
        "id": "V3Wk8Kw7sFm_",
        "outputId": "e066261a-8392-48d8-dd48-e30413ebfb31"
      },
      "execution_count": 26,
      "outputs": [
        {
          "output_type": "stream",
          "name": "stdout",
          "text": [
            "[['Glory', 21, 'Uyo'], ['Sandar', 30, 'Eket'], ['Promise', 90, 'Oron']]\n",
            "     Names  Age  City\n",
            "0    Glory   21   Uyo\n",
            "1   Sandar   30  Eket\n",
            "2  Promise   90  Oron\n"
          ]
        }
      ]
    },
    {
      "cell_type": "code",
      "source": [
        "df = pd.DataFrame()\n",
        "print(df)"
      ],
      "metadata": {
        "colab": {
          "base_uri": "https://localhost:8080/"
        },
        "id": "i5JOWhkQsTHb",
        "outputId": "6a6aeb96-7590-493c-ccf0-3c42f9612e5a"
      },
      "execution_count": 27,
      "outputs": [
        {
          "output_type": "stream",
          "name": "stdout",
          "text": [
            "Empty DataFrame\n",
            "Columns: []\n",
            "Index: []\n"
          ]
        }
      ]
    },
    {
      "cell_type": "markdown",
      "source": [
        "**Pandas Index**"
      ],
      "metadata": {
        "id": "hmivT-jbuOFs"
      }
    },
    {
      "cell_type": "code",
      "source": [
        "data = {\"Name\": [\"Glory\", \"Sandar\", \"Promise\"],\n",
        "        \"Aga\": [ 100, 200, 300],\n",
        "        \"City\": [\"Uyo\", \"Eket\", \"Oron\"]}\n",
        "df = pd.DataFrame(data)\n",
        "print(df)"
      ],
      "metadata": {
        "colab": {
          "base_uri": "https://localhost:8080/"
        },
        "id": "U9ZFRpZtvP_U",
        "outputId": "332c3c4c-ae3d-4da3-e8cf-b2b68f5ce630"
      },
      "execution_count": 29,
      "outputs": [
        {
          "output_type": "stream",
          "name": "stdout",
          "text": [
            "      Name  Aga  City\n",
            "0    Glory  100   Uyo\n",
            "1   Sandar  200  Eket\n",
            "2  Promise  300  Oron\n"
          ]
        }
      ]
    },
    {
      "cell_type": "markdown",
      "source": [
        "Setting **Index**"
      ],
      "metadata": {
        "id": "huTEle13v-8E"
      }
    },
    {
      "cell_type": "code",
      "source": [
        "data = {\"Name\": [\"Glory\", \"Sandar\", \"Promise\"],\n",
        "        \"Aga\": [ 100, 200, 300],\n",
        "        \"City\": [\"Uyo\", \"Eket\", \"Oron\"]}\n",
        "df = pd.DataFrame(data)\n",
        "df.set_index(\"Name\", inplace=True)\n",
        "print(df)"
      ],
      "metadata": {
        "colab": {
          "base_uri": "https://localhost:8080/"
        },
        "id": "5zURLUqOwCpV",
        "outputId": "26cb55a5-15f7-4fda-e362-7c1b251dbc6f"
      },
      "execution_count": 30,
      "outputs": [
        {
          "output_type": "stream",
          "name": "stdout",
          "text": [
            "         Aga  City\n",
            "Name              \n",
            "Glory    100   Uyo\n",
            "Sandar   200  Eket\n",
            "Promise  300  Oron\n"
          ]
        }
      ]
    },
    {
      "cell_type": "markdown",
      "source": [
        "Range **Index**"
      ],
      "metadata": {
        "id": "6mSi0lnGwuAg"
      }
    },
    {
      "cell_type": "code",
      "source": [
        "data = {\"Name\": [\"Glory\", \"Sandar\", \"Promise\"],\n",
        "        \"Aga\": [ 100, 200, 300],\n",
        "        \"City\": [\"Uyo\", \"Eket\", \"Oron\"]}\n",
        "df = pd.DataFrame(data)\n",
        "\n",
        "#Create a range index\n",
        "df = pd.DataFrame(data, index=pd.RangeIndex(5, 8))\n",
        "print(df)"
      ],
      "metadata": {
        "colab": {
          "base_uri": "https://localhost:8080/"
        },
        "id": "Lv2BQ9k1xQQL",
        "outputId": "ab97010f-35a8-4bd3-d771-908dce5534f4"
      },
      "execution_count": 35,
      "outputs": [
        {
          "output_type": "stream",
          "name": "stdout",
          "text": [
            "      Name  Aga  City\n",
            "5    Glory  100   Uyo\n",
            "6   Sandar  200  Eket\n",
            "7  Promise  300  Oron\n"
          ]
        }
      ]
    },
    {
      "cell_type": "markdown",
      "source": [
        "**Modifying indexes in** **pandas**"
      ],
      "metadata": {
        "id": "4A1rMd6czWc6"
      }
    },
    {
      "cell_type": "code",
      "source": [
        "data = {\"Name\": [\"Glory\", \"Sandar\", \"Promise\"],\n",
        "        \"Aga\": [ 100, 200, 300],\n",
        "        \"City\": [\"Uyo\", \"Eket\", \"Oron\"]}\n",
        "df = pd.DataFrame(data)\n",
        "#Display original dataFrame\n",
        "print(\"Original Dataframe\")\n",
        "print(df)\n",
        "print()\n",
        "#Reaname index\n",
        "df.rename(index={0: \"x\", 1: \"Y\", 2: \"Z\"}, inplace=True)\n",
        "print(\"Modified Dataframe\")\n",
        "print(df)\n",
        "\n"
      ],
      "metadata": {
        "colab": {
          "base_uri": "https://localhost:8080/"
        },
        "id": "Aqjy_cqCzfqD",
        "outputId": "16e49fea-3ac1-4335-bf0b-63befb6b7897"
      },
      "execution_count": 38,
      "outputs": [
        {
          "output_type": "stream",
          "name": "stdout",
          "text": [
            "Original Dataframe\n",
            "      Name  Aga  City\n",
            "0    Glory  100   Uyo\n",
            "1   Sandar  200  Eket\n",
            "2  Promise  300  Oron\n",
            "\n",
            "Modified Dataframe\n",
            "      Name  Aga  City\n",
            "x    Glory  100   Uyo\n",
            "Y   Sandar  200  Eket\n",
            "Z  Promise  300  Oron\n"
          ]
        }
      ]
    },
    {
      "cell_type": "markdown",
      "source": [],
      "metadata": {
        "id": "QSi46hdox4dm"
      }
    }
  ]
}