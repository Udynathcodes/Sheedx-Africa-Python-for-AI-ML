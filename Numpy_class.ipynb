{
  "nbformat": 4,
  "nbformat_minor": 0,
  "metadata": {
    "colab": {
      "provenance": [],
      "authorship_tag": "ABX9TyNY8MRmKAzyjFBDcB/ShrV2",
      "include_colab_link": true
    },
    "kernelspec": {
      "name": "python3",
      "display_name": "Python 3"
    },
    "language_info": {
      "name": "python"
    }
  },
  "cells": [
    {
      "cell_type": "markdown",
      "metadata": {
        "id": "view-in-github",
        "colab_type": "text"
      },
      "source": [
        "<a href=\"https://colab.research.google.com/github/Udynathcodes/Sheedx-Africa-Python-for-AI-ML/blob/main/Numpy_class.ipynb\" target=\"_parent\"><img src=\"https://colab.research.google.com/assets/colab-badge.svg\" alt=\"Open In Colab\"/></a>"
      ]
    },
    {
      "cell_type": "markdown",
      "source": [],
      "metadata": {
        "id": "LrQajhpS5GwV"
      }
    },
    {
      "cell_type": "code",
      "source": [
        "import numpy as np #alias\n",
        "list1 = [2, 5, 3, 1]\n",
        "array1 = np.array(list1)\n",
        "print(array1)\n",
        "print(type(array1))\n",
        "print(type(list1))"
      ],
      "metadata": {
        "id": "EQQIVXTlQq50",
        "colab": {
          "base_uri": "https://localhost:8080/"
        },
        "outputId": "04648000-f554-4c39-e2b8-91f412c1c88a"
      },
      "execution_count": 8,
      "outputs": [
        {
          "output_type": "stream",
          "name": "stdout",
          "text": [
            "[2 5 3 1]\n",
            "<class 'numpy.ndarray'>\n",
            "<class 'list'>\n"
          ]
        }
      ]
    },
    {
      "cell_type": "markdown",
      "source": [
        "***Next array using np.zero()***"
      ],
      "metadata": {
        "id": "CslUfq4vrJDd"
      }
    },
    {
      "cell_type": "code",
      "source": [
        "array2 = np.zeros(5)\n",
        "print(array2)"
      ],
      "metadata": {
        "colab": {
          "base_uri": "https://localhost:8080/"
        },
        "id": "TTLWcHyTrV2P",
        "outputId": "47f454cf-40cd-484c-9235-f614a9f1e321"
      },
      "execution_count": 9,
      "outputs": [
        {
          "output_type": "stream",
          "name": "stdout",
          "text": [
            "[0. 0. 0. 0. 0.]\n"
          ]
        }
      ]
    },
    {
      "cell_type": "code",
      "source": [
        "# np.arrange()\n",
        "array3 = np.arange(5)\n",
        "print(\"Using np.arrange(5)\", array3)\n",
        "\n",
        "array4 = np.arange(1, 9, 2)\n",
        "print(\"Using np.arange()\", array4)"
      ],
      "metadata": {
        "colab": {
          "base_uri": "https://localhost:8080/"
        },
        "id": "VCW58eMirymD",
        "outputId": "9a4626f8-1837-42e1-a4ea-307fecab2cf5"
      },
      "execution_count": 14,
      "outputs": [
        {
          "output_type": "stream",
          "name": "stdout",
          "text": [
            "Using np.arrange(5) [0 1 2 3 4]\n",
            "Using np.arange() [1 3 5 7]\n"
          ]
        }
      ]
    },
    {
      "cell_type": "markdown",
      "source": [],
      "metadata": {
        "id": "LmDnrkwLvt46"
      }
    },
    {
      "cell_type": "code",
      "source": [
        "array5 = np.random.rand(5)\n",
        "print(array5)"
      ],
      "metadata": {
        "colab": {
          "base_uri": "https://localhost:8080/"
        },
        "id": "4xSjcVSZtT_S",
        "outputId": "40f22d54-0909-4dfa-a8a5-a565f98cf783"
      },
      "execution_count": 18,
      "outputs": [
        {
          "output_type": "stream",
          "name": "stdout",
          "text": [
            "[0.26805007 0.54233277 0.7263549  0.92985284 0.02932177]\n"
          ]
        }
      ]
    },
    {
      "cell_type": "markdown",
      "source": [
        "Empty Numpy array"
      ],
      "metadata": {
        "id": "bYpYpfWtuE57"
      }
    },
    {
      "cell_type": "code",
      "source": [
        "array6 = np.empty(5)\n",
        "print(array6)"
      ],
      "metadata": {
        "colab": {
          "base_uri": "https://localhost:8080/"
        },
        "id": "ixKUyno2uO0I",
        "outputId": "b6901579-a49c-4b9a-8bea-e9c381f5fb12"
      },
      "execution_count": 19,
      "outputs": [
        {
          "output_type": "stream",
          "name": "stdout",
          "text": [
            "[0. 0. 0. 0. 0.]\n"
          ]
        }
      ]
    },
    {
      "cell_type": "markdown",
      "source": [
        "N-D **Array**"
      ],
      "metadata": {
        "id": "prsaBavxvvpS"
      }
    },
    {
      "cell_type": "code",
      "source": [
        "arr1 = np.array([[[1, 2, 3, 4],\n",
        "                [9, 0 , 7, 9],\n",
        "                 [5, 3, 22, 19]],\n",
        "\n",
        "                 [[62, 58, 19, 32],\n",
        "                 [90, 10, 39, 20],\n",
        "                  [74, 32, 17, 83]]])\n",
        "print(arr1)"
      ],
      "metadata": {
        "colab": {
          "base_uri": "https://localhost:8080/"
        },
        "id": "SMDi0Qqqv0Zj",
        "outputId": "f52c97cd-eb40-4ca2-d083-29931c872035"
      },
      "execution_count": 33,
      "outputs": [
        {
          "output_type": "stream",
          "name": "stdout",
          "text": [
            "[[[ 1  2  3  4]\n",
            "  [ 9  0  7  9]\n",
            "  [ 5  3 22 19]]\n",
            "\n",
            " [[62 58 19 32]\n",
            "  [90 10 39 20]\n",
            "  [74 32 17 83]]]\n"
          ]
        }
      ]
    },
    {
      "cell_type": "code",
      "source": [
        "arr2 = np.zeros((2, 3))\n",
        "print(\"2-D Array: \")\n",
        "print(arr2)\n",
        "\n",
        "arr3 = np.zeros((2, 3, 4))\n",
        "print(\"3-D Array: \")\n",
        "print(arr3)"
      ],
      "metadata": {
        "colab": {
          "base_uri": "https://localhost:8080/"
        },
        "id": "4LIhoGpvy01W",
        "outputId": "170db836-a466-43ff-915a-e864c3c269cc"
      },
      "execution_count": 38,
      "outputs": [
        {
          "output_type": "stream",
          "name": "stdout",
          "text": [
            "2-D Array: \n",
            "[[0. 0. 0.]\n",
            " [0. 0. 0.]]\n",
            "3-D Array: \n",
            "[[[0. 0. 0. 0.]\n",
            "  [0. 0. 0. 0.]\n",
            "  [0. 0. 0. 0.]]\n",
            "\n",
            " [[0. 0. 0. 0.]\n",
            "  [0. 0. 0. 0.]\n",
            "  [0. 0. 0. 0.]]]\n"
          ]
        }
      ]
    },
    {
      "cell_type": "markdown",
      "source": [
        "**Creating array with specified **value**"
      ],
      "metadata": {
        "id": "eRLc3wPj0Q11"
      }
    },
    {
      "cell_type": "code",
      "source": [
        "spe_val = np.full((2, 2), 10)\n",
        "print(\"Array\", spe_val)"
      ],
      "metadata": {
        "colab": {
          "base_uri": "https://localhost:8080/"
        },
        "id": "ghztm2hE0aEJ",
        "outputId": "0e5f0240-315b-4147-9f2a-c41c3d94d8b7"
      },
      "execution_count": 43,
      "outputs": [
        {
          "output_type": "stream",
          "name": "stdout",
          "text": [
            "Array [[10 10]\n",
            " [10 10]]\n"
          ]
        }
      ]
    },
    {
      "cell_type": "code",
      "source": [
        "rand_gen = np.random.rand(2, 2)\n",
        "print(\"Randomly generated array for 2D Array: \")\n",
        "print(rand_gen)\n",
        "\n",
        "\n",
        "rand_3D = np.random.rand(2, 2, 2)\n",
        "print(\"Randomly generated array for 3D Array: \")\n",
        "print(rand_3D)"
      ],
      "metadata": {
        "colab": {
          "base_uri": "https://localhost:8080/"
        },
        "id": "GD2L38HG1Cpn",
        "outputId": "a5b9760c-4ab8-40be-a592-6eca1d2a145a"
      },
      "execution_count": 49,
      "outputs": [
        {
          "output_type": "stream",
          "name": "stdout",
          "text": [
            "Randomly generated array for 2D Array: \n",
            "[[0.39044707 0.90976714]\n",
            " [0.31800633 0.68646168]]\n",
            "Randomly generated array for 3D Array: \n",
            "[[[0.9839688  0.2630807 ]\n",
            "  [0.2837679  0.11473515]]\n",
            "\n",
            " [[0.75958833 0.57604837]\n",
            "  [0.62182566 0.69817393]]]\n"
          ]
        }
      ]
    },
    {
      "cell_type": "markdown",
      "source": [
        "Data types in Numpy Array"
      ],
      "metadata": {
        "id": "BqKlRE2q12kU"
      }
    },
    {
      "cell_type": "code",
      "source": [
        "udy = np.array([2, 52, 4]) #creat an array of integer\n",
        "un_dat = np.array([-2, -5, -4])\n",
        "float1 = np.array([3.0, 4.2, 9.3])\n",
        "comp = np.array([1+2j, 3+4j])\n",
        "#check data types\n",
        "print(udy.dtype)\n",
        "print(un_dat.dtype)\n",
        "print(float1.dtype)\n",
        "print(comp.dtype)\n",
        "\n"
      ],
      "metadata": {
        "colab": {
          "base_uri": "https://localhost:8080/"
        },
        "id": "G_V1wdfA5MGH",
        "outputId": "2e8180f6-3131-43f0-8dc0-3b107e955de6"
      },
      "execution_count": 64,
      "outputs": [
        {
          "output_type": "stream",
          "name": "stdout",
          "text": [
            "int64\n",
            "int64\n",
            "float64\n",
            "complex128\n"
          ]
        }
      ]
    },
    {
      "cell_type": "code",
      "source": [
        "Udy2 = np.array([1, 4, 7], dtype=np.int32)\n",
        "udy3 = np.array([1+2j, 2+3j, 3+2j], dtype='complex64')\n",
        "print(udy3, udy3.dtype)\n",
        "print(Udy2, Udy2.dtype)"
      ],
      "metadata": {
        "colab": {
          "base_uri": "https://localhost:8080/"
        },
        "id": "LF39EhA87aiO",
        "outputId": "9c99a30a-7ef5-47b6-c739-d6b3b1115329"
      },
      "execution_count": 70,
      "outputs": [
        {
          "output_type": "stream",
          "name": "stdout",
          "text": [
            "[1.+2.j 2.+3.j 3.+2.j] complex64\n",
            "[1 4 7] int32\n"
          ]
        }
      ]
    },
    {
      "cell_type": "markdown",
      "source": [
        "**Type conversion**"
      ],
      "metadata": {
        "id": "NZx4WTS085ie"
      }
    },
    {
      "cell_type": "code",
      "source": [
        "type_con = np.array([2, 3, 4, 1])\n",
        "#Convert int to float\n",
        "float_con = type_con.astype('float')\n",
        "print(type_con, type_con.dtype)\n",
        "print(float_con, float_con.dtype)\n"
      ],
      "metadata": {
        "colab": {
          "base_uri": "https://localhost:8080/"
        },
        "id": "x7NCfHET89ri",
        "outputId": "de106599-f448-49b4-87ed-7a07bca5b1a1"
      },
      "execution_count": 71,
      "outputs": [
        {
          "output_type": "stream",
          "name": "stdout",
          "text": [
            "[2 3 4 1] int64\n",
            "[2. 3. 4. 1.] float64\n"
          ]
        }
      ]
    }
  ]
}